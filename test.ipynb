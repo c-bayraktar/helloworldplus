{
 "cells": [
  {
   "cell_type": "code",
   "execution_count": 11,
   "id": "f223b109-1a18-44d0-8cfa-f1e328ec83c3",
   "metadata": {},
   "outputs": [
    {
     "name": "stdout",
     "output_type": "stream",
     "text": [
      "Looking in indexes: https://test.pypi.org/simple/\n",
      "Requirement already satisfied: example-package-c-bayraktar in /opt/conda/lib/python3.10/site-packages (0.1.1)\n",
      "Collecting example-package-c-bayraktar\n",
      "  Downloading https://test-files.pythonhosted.org/packages/14/05/3d7844ec87068f5a43d90aab37e8f00f1ad758c97ccdd23216043db82d00/example_package_c_bayraktar-0.1.2-py3-none-any.whl (14 kB)\n",
      "Installing collected packages: example-package-c-bayraktar\n",
      "  Attempting uninstall: example-package-c-bayraktar\n",
      "    Found existing installation: example_package_c_bayraktar 0.1.1\n",
      "    Uninstalling example_package_c_bayraktar-0.1.1:\n",
      "      Successfully uninstalled example_package_c_bayraktar-0.1.1\n",
      "Successfully installed example-package-c-bayraktar-0.1.2\n",
      "Note: you may need to restart the kernel to use updated packages.\n"
     ]
    }
   ],
   "source": [
    "pip install -i https://test.pypi.org/simple/ example-package-c-bayraktar --upgrade"
   ]
  },
  {
   "cell_type": "code",
   "execution_count": 1,
   "id": "ef981d6d-d3b3-453f-a76d-0fdeecaf05f4",
   "metadata": {},
   "outputs": [],
   "source": [
    "from example_package_c_bayraktar import project_example as pe"
   ]
  },
  {
   "cell_type": "code",
   "execution_count": 2,
   "id": "726bdb59-bee6-491c-b063-4ab796f68ecf",
   "metadata": {},
   "outputs": [
    {
     "name": "stdout",
     "output_type": "stream",
     "text": [
      "Hello World!\n"
     ]
    }
   ],
   "source": [
    "pe.target('exoplanets')"
   ]
  },
  {
   "cell_type": "code",
   "execution_count": 3,
   "id": "692bb7d3-510c-42ba-a473-9f1813aff116",
   "metadata": {},
   "outputs": [
    {
     "name": "stdout",
     "output_type": "stream",
     "text": [
      "Hello Moon!\n"
     ]
    }
   ],
   "source": [
    "pe.target('exomoons')"
   ]
  },
  {
   "cell_type": "code",
   "execution_count": 4,
   "id": "84cf8fbb-d890-48ba-ad27-6680a08890f2",
   "metadata": {},
   "outputs": [
    {
     "name": "stdout",
     "output_type": "stream",
     "text": [
      "Hello Star!\n"
     ]
    }
   ],
   "source": [
    "pe.target('solar')"
   ]
  },
  {
   "cell_type": "code",
   "execution_count": 5,
   "id": "9842cfe3-b411-42a9-9d93-04485ca897ce",
   "metadata": {},
   "outputs": [
    {
     "name": "stdout",
     "output_type": "stream",
     "text": [
      "There was either a typo or this research interest is not included...yet!\n"
     ]
    }
   ],
   "source": [
    "pe.target('hi')"
   ]
  }
 ],
 "metadata": {
  "kernelspec": {
   "display_name": "Python 3 (ipykernel)",
   "language": "python",
   "name": "python3"
  },
  "language_info": {
   "codemirror_mode": {
    "name": "ipython",
    "version": 3
   },
   "file_extension": ".py",
   "mimetype": "text/x-python",
   "name": "python",
   "nbconvert_exporter": "python",
   "pygments_lexer": "ipython3",
   "version": "3.10.5"
  }
 },
 "nbformat": 4,
 "nbformat_minor": 5
}
